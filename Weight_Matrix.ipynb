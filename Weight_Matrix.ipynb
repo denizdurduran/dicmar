{
 "cells": [
  {
   "cell_type": "markdown",
   "metadata": {},
   "source": [
    "# Weight Matrix Plot\n",
    "\n",
    "This Jupyter Notebook is used to visualize the weight matrix used in the RFX+CPG Controller. This allows to visually perceive the values of the connection weights between the motor primtives and the 9 RFX muscles from the musculoskeletal model from Song, 2015. "
   ]
  },
  {
   "cell_type": "code",
   "execution_count": 5,
   "metadata": {},
   "outputs": [],
   "source": [
    "# Imports\n",
    "from wNMF import wNMF\n",
    "import numpy as np\n",
    "import matplotlib.pyplot as plt   # allows to plot charts\n",
    "from pylab import imshow,colorbar\n",
    "import pandas as pd              \n",
    "import seaborn as sns    # python data visualization library based on matplotlib\n",
    "import glob\n",
    "import pickle\n",
    "import os \n",
    "\n",
    "# To be allow to zoom in on the plots, uncomment the following lines\n",
    "%matplotlib inline\n",
    "# import mpld3\n",
    "# mpld3.enable_notebook()\n",
    "\n",
    "sns.set(style=\"darkgrid\")\n",
    "\n",
    "# Measurement file\n",
    "file_path = './control/params_2D_FDB_CPG_5MP.txt'"
   ]
  },
  {
   "cell_type": "markdown",
   "metadata": {},
   "source": [
    "First, the parameter file is read. It contains the 37 parameters from the RFX-controller as well as the parameters from the CPG controller, namely:\n",
    "- For 4MP: 4 centers, 4 sigmas, 36 connection weights, leading to 44 CPG parameters\n",
    "- For 5MP: 5 centers, 5 sigmas, 45 connection weights, leading to 55 CPG parameters"
   ]
  },
  {
   "cell_type": "code",
   "execution_count": 6,
   "metadata": {},
   "outputs": [],
   "source": [
    "# Read a file into an array\n",
    "def readFile(fileName):\n",
    "    with open(fileName, 'r') as f:\n",
    "        params_array = f.read().splitlines()    # Puts the file into an array\n",
    "    return params_array"
   ]
  },
  {
   "cell_type": "code",
   "execution_count": 7,
   "metadata": {},
   "outputs": [
    {
     "data": {
      "image/png": "[encoded data removed]",
      "text/plain": [
       "<Figure size 432x288 with 2 Axes>"
      ]
     },
     "metadata": {},
     "output_type": "display_data"
    }
   ],
   "source": [
    "params = readFile(file_path)\n",
    "\n",
    "# Define the number of motor primitives used in optimization\n",
    "N_RBF = 5\n",
    "\n",
    "# Separate params between the RFX-only parameters and the CPG-only parameters\n",
    "rfx_params = params[:37]\n",
    "cpg_params = params[37:]\n",
    "\n",
    "# Remove center and sigmas from cpg_params to keep only the weights\n",
    "weights_1D = params[47:] # for 5MP, change in 47, for 4MP change in 45\n",
    "\n",
    "weights_matrix = np.reshape(weights_1D, (-1, N_RBF)) \n",
    "weights_matrix = weights_matrix.astype(float)\n",
    "\n",
    "ones = np.ones((6,N_RBF), dtype=float)\n",
    "zeros = np.zeros((3,N_RBF), dtype=float)\n",
    "matrix = np.r_[ones, zeros]\n",
    "\n",
    "axis_x = [\"MP1\", \"MP2\", \"MP3\", \"MP4\", \"MP5\"] # add \"MP5\" for 5MP, or remove for 4MP\n",
    "axis_y = [\"HFL\", \"GLU\", \"HAM\", \"RF\", \"VAS\", \"BFSH\", \"GAS\", \"SOL\", \"TA\"]\n",
    "\n",
    "fig, ax = plt.subplots()\n",
    "im = ax.matshow(weights_matrix*matrix, cmap='RdBu', interpolation=None)\n",
    "\n",
    "# We want to show all ticks...\n",
    "ax.set_xticks(np.arange(len(axis_x)))\n",
    "ax.set_yticks(np.arange(len(axis_y)))\n",
    "# ... and label them with the respective list entries\n",
    "ax.set_xticklabels(axis_x)\n",
    "ax.set_yticklabels(axis_y)\n",
    "\n",
    "# Rotate the tick labels and set their alignment.\n",
    "plt.setp(ax.get_xticklabels(), rotation=0, ha=\"right\",\n",
    "         rotation_mode=\"anchor\")\n",
    "\n",
    "# Visualization of the weight matrix\n",
    "colorbar(im)\n",
    "fig.tight_layout()\n",
    "plt.show()\n"
   ]
  },
  {
   "cell_type": "code",
   "execution_count": null,
   "metadata": {},
   "outputs": [],
   "source": []
  }
 ],
 "metadata": {
  "kernelspec": {
   "display_name": "Python 3",
   "language": "python",
   "name": "python3"
  },
  "language_info": {
   "codemirror_mode": {
    "name": "ipython",
    "version": 3
   },
   "file_extension": ".py",
   "mimetype": "text/x-python",
   "name": "python",
   "nbconvert_exporter": "python",
   "pygments_lexer": "ipython3",
   "version": "3.8.3"
  }
 },
 "nbformat": 4,
 "nbformat_minor": 4
}
