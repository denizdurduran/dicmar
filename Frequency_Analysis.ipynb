{
 "cells": [
  {
   "cell_type": "code",
   "execution_count": 10,
   "metadata": {},
   "outputs": [],
   "source": [
    "# Imports\n",
    "from wNMF import wNMF\n",
    "import numpy as np\n",
    "import matplotlib.pyplot as plt   # allows to plot charts\n",
    "import pandas as pd              \n",
    "import seaborn as sns    # python data visualization library based on matplotlib\n",
    "import glob\n",
    "import pickle\n",
    "import os \n",
    "# To sort tests per test_id\n",
    "from collections import OrderedDict\n",
    "\n",
    "# To zoom in on the plots, uncomment the following lines\n",
    "# %matplotlib inline\n",
    "# import mpld3\n",
    "# mpld3.enable_notebook()\n",
    "\n",
    "sns.set(style=\"darkgrid\")"
   ]
  },
  {
   "cell_type": "markdown",
   "metadata": {},
   "source": [
    "### Instantaneous Velocities retrieval"
   ]
  },
  {
   "cell_type": "code",
   "execution_count": 11,
   "metadata": {},
   "outputs": [],
   "source": [
    "# Return a color map to assign colors to test_ids\n",
    "def get_cmap(n, name='gist_rainbow'):\n",
    "    '''Returns a function that maps each index in 0, 1, ..., n-1 to a distinct \n",
    "    RGB color; the keyword argument name must be a standard mpl colormap name.'''\n",
    "    return plt.cm.get_cmap(name, n)\n",
    "\n",
    "# Root directory where the files are stored\n",
    "path_dir = './logs/simulation_data/Frequencies'\n",
    "\n",
    "# Loop to recursively look for files with .pkl extension, even in subfolders\n",
    "pkl_files = {}\n",
    "current_test = None\n",
    "for root, dirs, files in os.walk(path_dir):\n",
    "    if(len(root.split(os.sep)[-2:-1]) >= 1):\n",
    "        folder_name = root.split(os.sep)[-2:-1][0].split('_')\n",
    "        if(len(folder_name) == 3 and folder_name[0] == \"Test\" and folder_name[2] == \"Frequencies\"):\n",
    "            if(current_test != folder_name[1]):\n",
    "                current_test = folder_name[1]\n",
    "                pkl_files[current_test] = []\n",
    "            for file in files:\n",
    "                if \"values.pkl\" in file:\n",
    "                    path = \"{}{}{}\".format(root, os.sep, file)\n",
    "                    pkl_files[current_test].append(path)\n",
    "                    \n",
    "# Sort files per test_id asc\n",
    "pkl_files = OrderedDict(sorted(pkl_files.items()))\n",
    "\n",
    "# Color Map, assign a color to a test_id. The first test_id will be represented with the first color of the array aso...\n",
    "possibleColors = get_cmap(len(pkl_files.keys()) + 1)\n",
    "test_color = {}\n",
    "\n",
    "# Open and load the files as dictionaries\n",
    "# We store those dict in an bigger dict for futur reference, the filename will be the key\n",
    "current_test = None\n",
    "data = {}\n",
    "count = 0\n",
    "for test_id, files in pkl_files.items():\n",
    "    if current_test != test_id:\n",
    "        current_test = test_id\n",
    "        data[current_test] = {}\n",
    "        test_color[current_test] = possibleColors(count)\n",
    "        count += 1\n",
    "    for pkl in files:\n",
    "        with open(pkl, 'rb') as f:\n",
    "            data[current_test][pkl.split(os.sep)[-1].split('.')[-2].split('_')[-1]] = pickle.load(f)\n",
    "            \n",
    "\n",
    "#### DATA STRUCTURE #####\n",
    "# data[\"516\"] -> contains all values files in Test_516_Frequencies\n",
    "# data[\"516\"][\"1.0\"] -> contains value file in Test_516_Frequencies with a frequency of 1.0"
   ]
  },
  {
   "cell_type": "code",
   "execution_count": 12,
   "metadata": {},
   "outputs": [
    {
     "name": "stdout",
     "output_type": "stream",
     "text": [
      "values 2\n",
      "values 3\n",
      "values 4\n",
      "values 5\n",
      "values 6\n",
      "values 600\n",
      "values 601\n"
     ]
    },
    {
     "ename": "ValueError",
     "evalue": "could not convert string to float: 'values'",
     "output_type": "error",
     "traceback": [
      "\u001b[0;31m---------------------------------------------------------------------------\u001b[0m",
      "\u001b[0;31mValueError\u001b[0m                                Traceback (most recent call last)",
      "\u001b[0;32m<ipython-input-12-539ab9abf78b>\u001b[0m in \u001b[0;36m<module>\u001b[0;34m\u001b[0m\n\u001b[1;32m     18\u001b[0m \u001b[0;31m# Create a table of frequencies\u001b[0m\u001b[0;34m\u001b[0m\u001b[0;34m\u001b[0m\u001b[0;34m\u001b[0m\u001b[0m\n\u001b[1;32m     19\u001b[0m \u001b[0;32mfor\u001b[0m \u001b[0mtest_nb\u001b[0m\u001b[0;34m,\u001b[0m \u001b[0mtest_val\u001b[0m \u001b[0;32min\u001b[0m \u001b[0mdata\u001b[0m\u001b[0;34m.\u001b[0m\u001b[0mitems\u001b[0m\u001b[0;34m(\u001b[0m\u001b[0;34m)\u001b[0m\u001b[0;34m:\u001b[0m\u001b[0;34m\u001b[0m\u001b[0;34m\u001b[0m\u001b[0m\n\u001b[0;32m---> 20\u001b[0;31m     \u001b[0mmin\u001b[0m \u001b[0;34m=\u001b[0m \u001b[0mfloat\u001b[0m\u001b[0;34m(\u001b[0m\u001b[0msorted\u001b[0m\u001b[0;34m(\u001b[0m\u001b[0mtest_val\u001b[0m\u001b[0;34m.\u001b[0m\u001b[0mkeys\u001b[0m\u001b[0;34m(\u001b[0m\u001b[0;34m)\u001b[0m\u001b[0;34m)\u001b[0m\u001b[0;34m[\u001b[0m\u001b[0;36m0\u001b[0m\u001b[0;34m]\u001b[0m\u001b[0;34m)\u001b[0m\u001b[0;34m\u001b[0m\u001b[0;34m\u001b[0m\u001b[0m\n\u001b[0m\u001b[1;32m     21\u001b[0m     \u001b[0mmax\u001b[0m \u001b[0;34m=\u001b[0m \u001b[0mfloat\u001b[0m\u001b[0;34m(\u001b[0m\u001b[0msorted\u001b[0m\u001b[0;34m(\u001b[0m\u001b[0mtest_val\u001b[0m\u001b[0;34m.\u001b[0m\u001b[0mkeys\u001b[0m\u001b[0;34m(\u001b[0m\u001b[0;34m)\u001b[0m\u001b[0;34m)\u001b[0m\u001b[0;34m[\u001b[0m\u001b[0;34m-\u001b[0m\u001b[0;36m1\u001b[0m\u001b[0;34m:\u001b[0m\u001b[0;34m]\u001b[0m\u001b[0;34m[\u001b[0m\u001b[0;36m0\u001b[0m\u001b[0;34m]\u001b[0m\u001b[0;34m)\u001b[0m\u001b[0;34m\u001b[0m\u001b[0;34m\u001b[0m\u001b[0m\n\u001b[1;32m     22\u001b[0m     \u001b[0mstep\u001b[0m \u001b[0;34m=\u001b[0m \u001b[0mlen\u001b[0m\u001b[0;34m(\u001b[0m\u001b[0mtest_val\u001b[0m\u001b[0;34m.\u001b[0m\u001b[0mkeys\u001b[0m\u001b[0;34m(\u001b[0m\u001b[0;34m)\u001b[0m\u001b[0;34m)\u001b[0m\u001b[0;34m\u001b[0m\u001b[0;34m\u001b[0m\u001b[0m\n",
      "\u001b[0;31mValueError\u001b[0m: could not convert string to float: 'values'"
     ]
    }
   ],
   "source": [
    "velocities = {}\n",
    "# Python2 -> data.iteritems()\n",
    "for test_nb, _ in data.items():\n",
    "    velocities[test_nb] = {}\n",
    "    for freq in sorted(data[test_nb].keys()):\n",
    "        print(freq, test_nb)\n",
    "        velocities[test_nb][freq] = [data[test_nb][freq][i][\"pelvis\"][\"vel\"][0] for i in range(len(data[test_nb][freq]))]\n",
    "\n",
    "means = {}\n",
    "maximums = {}\n",
    "for test_nb, _ in velocities.items():\n",
    "    means[test_nb] = {}\n",
    "    maximums[test_nb] = {}\n",
    "    for freq, velocity in velocities[test_nb].items():\n",
    "        means[test_nb][freq] = np.mean(velocity)\n",
    "        maximums[test_nb][freq] = np.max(velocity)\n",
    "\n",
    "# Create a table of frequencies\n",
    "for test_nb, test_val in data.items():\n",
    "    min = float(sorted(test_val.keys())[0])\n",
    "    max = float(sorted(test_val.keys())[-1:][0])\n",
    "    step = len(test_val.keys())\n",
    "\n",
    "freq = np.array(np.linspace(min, max, step))\n",
    "\n"
   ]
  },
  {
   "cell_type": "code",
   "execution_count": null,
   "metadata": {},
   "outputs": [],
   "source": [
    "# Plot frequencies vs Velocities\n",
    "tmp_mean = []\n",
    "tmp_freq = []\n",
    "for test, _ in means.items():\n",
    "    for f in freq:\n",
    "        # Floating point classic issue : 1.1 is stored as 1.099999999 https://stackoverflow.com/questions/24670608/why-does-python-show-0-2-0-1-as-0-30000000000000004\n",
    "        if(len(str(f)) > 4):\n",
    "            f = round(f, 1)\n",
    "        if(str(f) in means[test].keys()):\n",
    "            tmp_freq.append(f)\n",
    "            tmp_mean.append(means[test][str(f)])\n",
    "    plt.plot(tmp_freq, tmp_mean, label=\"Exp. {}\".format(test))\n",
    "    plt.legend()\n",
    "    tmp_freq = []\n",
    "    tmp_mean = []\n",
    "\n",
    "# Changer les noms des fichiers pour avoir le bon numero d'exp\n",
    "    \n",
    "    \n",
    "plt.title('Frequency with respect to velocity')\n",
    "plt.ylabel('Mean Velocity [m/s]')\n",
    "plt.xlabel('Frequency [Hz]')\n",
    "plt.legend(bbox_to_anchor = (1.05, 1), loc=2, prop={'size':14})\n",
    "plt.show()"
   ]
  },
  {
   "cell_type": "code",
   "execution_count": null,
   "metadata": {},
   "outputs": [],
   "source": []
  }
 ],
 "metadata": {
  "kernelspec": {
   "display_name": "Python 3",
   "language": "python",
   "name": "python3"
  },
  "language_info": {
   "codemirror_mode": {
    "name": "ipython",
    "version": 3
   },
   "file_extension": ".py",
   "mimetype": "text/x-python",
   "name": "python",
   "nbconvert_exporter": "python",
   "pygments_lexer": "ipython3",
   "version": "3.8.3"
  }
 },
 "nbformat": 4,
 "nbformat_minor": 4
}
